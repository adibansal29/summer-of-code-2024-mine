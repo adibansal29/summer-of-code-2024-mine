{
 "cells": [
  {
   "cell_type": "code",
   "execution_count": 1,
   "id": "2d7444bd-2e19-4ebc-abae-9fea526231d5",
   "metadata": {},
   "outputs": [],
   "source": [
    "import pandas as pd\n",
    "df = pd.read_csv('train.csv')"
   ]
  },
  {
   "cell_type": "code",
   "execution_count": 2,
   "id": "77995ae4-f6cf-4f64-8e12-8fde111da812",
   "metadata": {},
   "outputs": [],
   "source": [
    "df = df[['Order Date', 'Category', 'Sales']]"
   ]
  },
  {
   "cell_type": "code",
   "execution_count": 3,
   "id": "bf80bb5b-962e-4511-9a7c-84cd13d8d3ef",
   "metadata": {},
   "outputs": [],
   "source": [
    "df['Order Date'] = pd.to_datetime(df['Order Date'], format='%d/%m/%Y')"
   ]
  },
  {
   "cell_type": "code",
   "execution_count": 4,
   "id": "0f5f087a-a260-4ef7-9ab3-d727574d8a03",
   "metadata": {},
   "outputs": [],
   "source": [
    "df_furniture = df[df['Category'] == 'Furniture']\n",
    "df_office = df[df['Category'] == 'Office Supplies']\n",
    "df_tech = df[df['Category'] == 'Technology']"
   ]
  },
  {
   "cell_type": "code",
   "execution_count": 5,
   "id": "e098f1e2-c9de-4ca8-aa9b-91896fc217e4",
   "metadata": {},
   "outputs": [],
   "source": [
    "df_furniture = df_furniture.groupby('Order Date')['Sales'].sum().reset_index()\n",
    "df_office = df_office.groupby('Order Date')['Sales'].sum().reset_index()\n",
    "df_tech = df_tech.groupby('Order Date')['Sales'].sum().reset_index()"
   ]
  },
  {
   "cell_type": "code",
   "execution_count": 6,
   "id": "405ae1e7-92c5-46ce-874b-9f0de6964272",
   "metadata": {},
   "outputs": [],
   "source": [
    "df_furniture = df_furniture.sort_values('Order Date')\n",
    "df_office = df_office.sort_values('Order Date')\n",
    "df_office = df_office.sort_values('Order Date')"
   ]
  },
  {
   "cell_type": "code",
   "execution_count": 7,
   "id": "addd7a8d-ba09-4b9c-9958-ae5570003860",
   "metadata": {},
   "outputs": [],
   "source": [
    "df_furniture['Day of Week'] = df_furniture['Order Date'].dt.dayofweek\n",
    "df_furniture['Month'] = df_furniture['Order Date'].dt.month\n",
    "\n",
    "df_office['Day of Week'] = df_office['Order Date'].dt.dayofweek\n",
    "df_office['Month'] = df_office['Order Date'].dt.month\n",
    "\n",
    "df_tech['Day of Week'] = df_tech['Order Date'].dt.dayofweek\n",
    "df_tech['Month'] = df_tech['Order Date'].dt.month"
   ]
  },
  {
   "cell_type": "code",
   "execution_count": 8,
   "id": "dd4b5b89-7001-4608-b481-78a1e7690c04",
   "metadata": {},
   "outputs": [],
   "source": [
    "for lag in range(1, 8):\n",
    "    df_furniture[f'Lag_{lag}'] = df_furniture['Sales'].shift(lag)\n",
    "    df_office[f'Lag_{lag}'] = df_office['Sales'].shift(lag)\n",
    "    df_tech[f'Lag_{lag}'] = df_tech['Sales'].shift(lag)\n",
    "    \n",
    "df_furniture['MA_7'] = df_furniture['Sales'].rolling(window=7).mean()\n",
    "df_furniture['EMA_7'] = df_furniture['Sales'].ewm(span=7).mean()\n",
    "\n",
    "df_office['MA_7'] = df_office['Sales'].rolling(window=7).mean()\n",
    "df_office['EMA_7'] = df_office['Sales'].ewm(span=7).mean()\n",
    "\n",
    "df_tech['MA_7'] = df_tech['Sales'].rolling(window=7).mean()\n",
    "df_tech['EMA_7'] = df_tech['Sales'].ewm(span=7).mean()"
   ]
  },
  {
   "cell_type": "code",
   "execution_count": 9,
   "id": "90f323f7-16c5-45c5-99a7-a6f44363fcf1",
   "metadata": {},
   "outputs": [],
   "source": [
    "df_furniture = df_furniture.dropna()\n",
    "df_office = df_office.dropna()\n",
    "df_tech = df_tech.dropna()"
   ]
  },
  {
   "cell_type": "code",
   "execution_count": 10,
   "id": "f4ada6ab-a7c1-4672-8c1b-5fab0e75402b",
   "metadata": {},
   "outputs": [],
   "source": [
    "from sklearn.preprocessing import MinMaxScaler\n",
    "scaler_furniture = MinMaxScaler()\n",
    "scaler_tech = MinMaxScaler()\n",
    "scaler_office = MinMaxScaler()\n",
    "furniture_sales_scaled = scaler_furniture.fit_transform(df_furniture.drop(columns=['Order Date']))\n",
    "office_sales_scaled = scaler_office.fit_transform(df_office.drop(columns=['Order Date']))\n",
    "tech_sales_scaled = scaler_tech.fit_transform(df_tech.drop(columns=['Order Date']))"
   ]
  },
  {
   "cell_type": "code",
   "execution_count": 11,
   "id": "06361a7e-637c-4171-a381-b12e1139f437",
   "metadata": {},
   "outputs": [],
   "source": [
    "X_furniture = furniture_sales_scaled\n",
    "y_furniture = furniture_sales_scaled[:, 0]\n",
    "\n",
    "X_office = office_sales_scaled\n",
    "y_office = office_sales_scaled[:, 0]\n",
    "\n",
    "X_tech = tech_sales_scaled\n",
    "y_tech = tech_sales_scaled[:, 0]"
   ]
  },
  {
   "cell_type": "code",
   "execution_count": 12,
   "id": "050a5657-7d7c-48f1-aef3-32363bf2205b",
   "metadata": {},
   "outputs": [],
   "source": [
    "def create_sequences(data, target, seq_length):\n",
    "    X_seq = []\n",
    "    y_seq = []\n",
    "    for i in range(len(data) - seq_length):\n",
    "        X_seq.append(data[i:i + seq_length])\n",
    "        y_seq.append(target[i + seq_length])\n",
    "    return np.array(X_seq), np.array(y_seq)"
   ]
  },
  {
   "cell_type": "code",
   "execution_count": 13,
   "id": "01a462b8-1dd3-470f-a0ee-469ac61a583e",
   "metadata": {},
   "outputs": [],
   "source": [
    "import numpy as np\n",
    "seq_length = 14\n",
    "X_furniture, y_furniture = create_sequences(X_furniture, y_furniture, seq_length)\n",
    "X_office, y_office = create_sequences(X_office, y_office, seq_length)\n",
    "X_tech, y_tech = create_sequences(X_tech, y_tech, seq_length)"
   ]
  },
  {
   "cell_type": "code",
   "execution_count": 14,
   "id": "8289200f-091f-4f35-8ac9-1783307d849e",
   "metadata": {},
   "outputs": [],
   "source": [
    "from keras.models import Model, Sequential\n",
    "from keras.layers import LSTM, RepeatVector, TimeDistributed, Dense, Input, Dropout, Bidirectional"
   ]
  },
  {
   "cell_type": "code",
   "execution_count": 15,
   "id": "0c2ff494-6d5c-41c6-bf07-f0fd5da71ad6",
   "metadata": {},
   "outputs": [
    {
     "name": "stderr",
     "output_type": "stream",
     "text": [
      "C:\\Users\\adity\\anaconda3\\Lib\\site-packages\\keras\\src\\layers\\rnn\\rnn.py:204: UserWarning: Do not pass an `input_shape`/`input_dim` argument to a layer. When using Sequential models, prefer using an `Input(shape)` object as the first layer in the model instead.\n",
      "  super().__init__(**kwargs)\n"
     ]
    }
   ],
   "source": [
    "model_furniture = Sequential()\n",
    "model_furniture.add(Bidirectional(LSTM(100, return_sequences=True, input_shape=(seq_length, X_furniture.shape[2]))))\n",
    "model_furniture.add(Dropout(0.2))\n",
    "model_furniture.add(Bidirectional(LSTM(100, return_sequences=False)))\n",
    "model_furniture.add(Dropout(0.2))\n",
    "model_furniture.add(Dense(1))"
   ]
  },
  {
   "cell_type": "code",
   "execution_count": 16,
   "id": "b4334863-65a4-4f5b-a57a-3d9d4b752126",
   "metadata": {},
   "outputs": [],
   "source": [
    "from tensorflow.keras.optimizers import Adam\n",
    "from tensorflow.keras.callbacks import EarlyStopping\n",
    "model_furniture.compile(optimizer=Adam(learning_rate=0.001), loss='mean_squared_error')\n",
    "early_stopping = EarlyStopping(monitor='val_loss', patience=10, restore_best_weights=True)"
   ]
  },
  {
   "cell_type": "code",
   "execution_count": 17,
   "id": "64c939a9-971f-4b9d-af4c-69d1fbb9deb0",
   "metadata": {},
   "outputs": [
    {
     "name": "stdout",
     "output_type": "stream",
     "text": [
      "Epoch 1/200\n",
      "\u001b[1m22/22\u001b[0m \u001b[32m━━━━━━━━━━━━━━━━━━━━\u001b[0m\u001b[37m\u001b[0m \u001b[1m20s\u001b[0m 108ms/step - loss: 0.0172 - val_loss: 0.0115\n",
      "Epoch 2/200\n",
      "\u001b[1m22/22\u001b[0m \u001b[32m━━━━━━━━━━━━━━━━━━━━\u001b[0m\u001b[37m\u001b[0m \u001b[1m1s\u001b[0m 38ms/step - loss: 0.0103 - val_loss: 0.0109\n",
      "Epoch 3/200\n",
      "\u001b[1m22/22\u001b[0m \u001b[32m━━━━━━━━━━━━━━━━━━━━\u001b[0m\u001b[37m\u001b[0m \u001b[1m1s\u001b[0m 40ms/step - loss: 0.0080 - val_loss: 0.0110\n",
      "Epoch 4/200\n",
      "\u001b[1m22/22\u001b[0m \u001b[32m━━━━━━━━━━━━━━━━━━━━\u001b[0m\u001b[37m\u001b[0m \u001b[1m1s\u001b[0m 42ms/step - loss: 0.0109 - val_loss: 0.0112\n",
      "Epoch 5/200\n",
      "\u001b[1m22/22\u001b[0m \u001b[32m━━━━━━━━━━━━━━━━━━━━\u001b[0m\u001b[37m\u001b[0m \u001b[1m1s\u001b[0m 40ms/step - loss: 0.0084 - val_loss: 0.0106\n",
      "Epoch 6/200\n",
      "\u001b[1m22/22\u001b[0m \u001b[32m━━━━━━━━━━━━━━━━━━━━\u001b[0m\u001b[37m\u001b[0m \u001b[1m1s\u001b[0m 37ms/step - loss: 0.0118 - val_loss: 0.0114\n",
      "Epoch 7/200\n",
      "\u001b[1m22/22\u001b[0m \u001b[32m━━━━━━━━━━━━━━━━━━━━\u001b[0m\u001b[37m\u001b[0m \u001b[1m1s\u001b[0m 43ms/step - loss: 0.0100 - val_loss: 0.0109\n",
      "Epoch 8/200\n",
      "\u001b[1m22/22\u001b[0m \u001b[32m━━━━━━━━━━━━━━━━━━━━\u001b[0m\u001b[37m\u001b[0m \u001b[1m1s\u001b[0m 41ms/step - loss: 0.0133 - val_loss: 0.0108\n",
      "Epoch 9/200\n",
      "\u001b[1m22/22\u001b[0m \u001b[32m━━━━━━━━━━━━━━━━━━━━\u001b[0m\u001b[37m\u001b[0m \u001b[1m1s\u001b[0m 43ms/step - loss: 0.0119 - val_loss: 0.0107\n",
      "Epoch 10/200\n",
      "\u001b[1m22/22\u001b[0m \u001b[32m━━━━━━━━━━━━━━━━━━━━\u001b[0m\u001b[37m\u001b[0m \u001b[1m1s\u001b[0m 42ms/step - loss: 0.0100 - val_loss: 0.0109\n",
      "Epoch 11/200\n",
      "\u001b[1m22/22\u001b[0m \u001b[32m━━━━━━━━━━━━━━━━━━━━\u001b[0m\u001b[37m\u001b[0m \u001b[1m1s\u001b[0m 46ms/step - loss: 0.0118 - val_loss: 0.0109\n",
      "Epoch 12/200\n",
      "\u001b[1m22/22\u001b[0m \u001b[32m━━━━━━━━━━━━━━━━━━━━\u001b[0m\u001b[37m\u001b[0m \u001b[1m1s\u001b[0m 43ms/step - loss: 0.0095 - val_loss: 0.0109\n",
      "Epoch 13/200\n",
      "\u001b[1m22/22\u001b[0m \u001b[32m━━━━━━━━━━━━━━━━━━━━\u001b[0m\u001b[37m\u001b[0m \u001b[1m1s\u001b[0m 45ms/step - loss: 0.0089 - val_loss: 0.0108\n",
      "Epoch 14/200\n",
      "\u001b[1m22/22\u001b[0m \u001b[32m━━━━━━━━━━━━━━━━━━━━\u001b[0m\u001b[37m\u001b[0m \u001b[1m1s\u001b[0m 40ms/step - loss: 0.0096 - val_loss: 0.0111\n",
      "Epoch 15/200\n",
      "\u001b[1m22/22\u001b[0m \u001b[32m━━━━━━━━━━━━━━━━━━━━\u001b[0m\u001b[37m\u001b[0m \u001b[1m1s\u001b[0m 41ms/step - loss: 0.0093 - val_loss: 0.0108\n"
     ]
    },
    {
     "data": {
      "text/plain": [
       "<keras.src.callbacks.history.History at 0x2ac41d68310>"
      ]
     },
     "execution_count": 17,
     "metadata": {},
     "output_type": "execute_result"
    }
   ],
   "source": [
    "model_furniture.fit(X_furniture, y_furniture, epochs=200, validation_split=0.2, callbacks=[early_stopping])"
   ]
  },
  {
   "cell_type": "code",
   "execution_count": 29,
   "id": "a3cf8dbc-ed04-46b8-a552-4195a5ed5e32",
   "metadata": {},
   "outputs": [
    {
     "name": "stdout",
     "output_type": "stream",
     "text": [
      "\u001b[1m27/27\u001b[0m \u001b[32m━━━━━━━━━━━━━━━━━━━━\u001b[0m\u001b[37m\u001b[0m \u001b[1m3s\u001b[0m 54ms/step\n"
     ]
    }
   ],
   "source": [
    "y_pred_furniture = model_furniture.predict(X_furniture)"
   ]
  },
  {
   "cell_type": "code",
   "execution_count": null,
   "id": "94ace32d-025d-4ac2-b14a-08c0f0515ded",
   "metadata": {},
   "outputs": [],
   "source": [
    "model_office = Sequential()\n",
    "model_office.add(Bidirectional(LSTM(100, return_sequences=True, input_shape=(seq_length, X_furniture.shape[2]))))\n",
    "model_office.add(Dropout(0.2))\n",
    "model_office.add(Bidirectional(LSTM(100, return_sequences=False)))\n",
    "model_office.add(Dropout(0.2))\n",
    "model_office.add(Dense(1))"
   ]
  },
  {
   "cell_type": "code",
   "execution_count": null,
   "id": "c4546d3e-17fe-4507-bd99-b80dbe84bd6a",
   "metadata": {},
   "outputs": [],
   "source": [
    "model_office.compile(optimizer=Adam(learning_rate=0.001), loss='mean_squared_error')"
   ]
  },
  {
   "cell_type": "code",
   "execution_count": 30,
   "id": "bb39b91d-a63d-4594-8dca-0c7d975524fd",
   "metadata": {},
   "outputs": [
    {
     "name": "stdout",
     "output_type": "stream",
     "text": [
      "Epoch 1/200\n",
      "\u001b[1m29/29\u001b[0m \u001b[32m━━━━━━━━━━━━━━━━━━━━\u001b[0m\u001b[37m\u001b[0m \u001b[1m1s\u001b[0m 35ms/step - loss: 0.0082 - val_loss: 0.0098\n",
      "Epoch 2/200\n",
      "\u001b[1m29/29\u001b[0m \u001b[32m━━━━━━━━━━━━━━━━━━━━\u001b[0m\u001b[37m\u001b[0m \u001b[1m1s\u001b[0m 33ms/step - loss: 0.0096 - val_loss: 0.0114\n",
      "Epoch 3/200\n",
      "\u001b[1m29/29\u001b[0m \u001b[32m━━━━━━━━━━━━━━━━━━━━\u001b[0m\u001b[37m\u001b[0m \u001b[1m1s\u001b[0m 26ms/step - loss: 0.0092 - val_loss: 0.0101\n",
      "Epoch 4/200\n",
      "\u001b[1m29/29\u001b[0m \u001b[32m━━━━━━━━━━━━━━━━━━━━\u001b[0m\u001b[37m\u001b[0m \u001b[1m1s\u001b[0m 25ms/step - loss: 0.0132 - val_loss: 0.0116\n",
      "Epoch 5/200\n",
      "\u001b[1m29/29\u001b[0m \u001b[32m━━━━━━━━━━━━━━━━━━━━\u001b[0m\u001b[37m\u001b[0m \u001b[1m1s\u001b[0m 30ms/step - loss: 0.0102 - val_loss: 0.0101\n",
      "Epoch 6/200\n",
      "\u001b[1m29/29\u001b[0m \u001b[32m━━━━━━━━━━━━━━━━━━━━\u001b[0m\u001b[37m\u001b[0m \u001b[1m1s\u001b[0m 30ms/step - loss: 0.0087 - val_loss: 0.0107\n",
      "Epoch 7/200\n",
      "\u001b[1m29/29\u001b[0m \u001b[32m━━━━━━━━━━━━━━━━━━━━\u001b[0m\u001b[37m\u001b[0m \u001b[1m1s\u001b[0m 32ms/step - loss: 0.0088 - val_loss: 0.0104\n",
      "Epoch 8/200\n",
      "\u001b[1m29/29\u001b[0m \u001b[32m━━━━━━━━━━━━━━━━━━━━\u001b[0m\u001b[37m\u001b[0m \u001b[1m1s\u001b[0m 30ms/step - loss: 0.0120 - val_loss: 0.0104\n",
      "Epoch 9/200\n",
      "\u001b[1m29/29\u001b[0m \u001b[32m━━━━━━━━━━━━━━━━━━━━\u001b[0m\u001b[37m\u001b[0m \u001b[1m1s\u001b[0m 31ms/step - loss: 0.0106 - val_loss: 0.0102\n",
      "Epoch 10/200\n",
      "\u001b[1m29/29\u001b[0m \u001b[32m━━━━━━━━━━━━━━━━━━━━\u001b[0m\u001b[37m\u001b[0m \u001b[1m1s\u001b[0m 32ms/step - loss: 0.0071 - val_loss: 0.0118\n",
      "Epoch 11/200\n",
      "\u001b[1m29/29\u001b[0m \u001b[32m━━━━━━━━━━━━━━━━━━━━\u001b[0m\u001b[37m\u001b[0m \u001b[1m1s\u001b[0m 33ms/step - loss: 0.0100 - val_loss: 0.0111\n"
     ]
    },
    {
     "data": {
      "text/plain": [
       "<keras.src.callbacks.history.History at 0x12ecc6bdc10>"
      ]
     },
     "execution_count": 30,
     "metadata": {},
     "output_type": "execute_result"
    }
   ],
   "source": [
    "model_office.fit(X_office, y_office, epochs=200, validation_split=0.2, callbacks=[early_stopping])"
   ]
  },
  {
   "cell_type": "code",
   "execution_count": 31,
   "id": "79a38a1d-2996-4216-8489-d6b85eef6a19",
   "metadata": {},
   "outputs": [
    {
     "name": "stdout",
     "output_type": "stream",
     "text": [
      "\u001b[1m36/36\u001b[0m \u001b[32m━━━━━━━━━━━━━━━━━━━━\u001b[0m\u001b[37m\u001b[0m \u001b[1m1s\u001b[0m 14ms/step\n"
     ]
    }
   ],
   "source": [
    "y_pred_office = model.predict(X_office)"
   ]
  },
  {
   "cell_type": "code",
   "execution_count": null,
   "id": "192177fa-09e2-4203-b0d2-0d92555929ab",
   "metadata": {},
   "outputs": [],
   "source": [
    "model_tech = Sequential()\n",
    "model_tech.add(Bidirectional(LSTM(100, return_sequences=True, input_shape=(seq_length, X_furniture.shape[2]))))\n",
    "model_tech.add(Dropout(0.2))\n",
    "model_tech.add(Bidirectional(LSTM(100, return_sequences=False)))\n",
    "model_tech.add(Dropout(0.2))\n",
    "model_tech.add(Dense(1))"
   ]
  },
  {
   "cell_type": "code",
   "execution_count": null,
   "id": "9e482e1e-96e4-42a0-a7fc-54c66649eec4",
   "metadata": {},
   "outputs": [],
   "source": [
    "model_tech.compile(optimizer=Adam(learning_rate=0.001), loss='mean_squared_error')"
   ]
  },
  {
   "cell_type": "code",
   "execution_count": 32,
   "id": "49a1ffa5-ce2d-4678-b870-fe477a66093a",
   "metadata": {},
   "outputs": [
    {
     "name": "stdout",
     "output_type": "stream",
     "text": [
      "Epoch 1/200\n",
      "\u001b[1m20/20\u001b[0m \u001b[32m━━━━━━━━━━━━━━━━━━━━\u001b[0m\u001b[37m\u001b[0m \u001b[1m1s\u001b[0m 41ms/step - loss: 0.0044 - val_loss: 0.0059\n",
      "Epoch 2/200\n",
      "\u001b[1m20/20\u001b[0m \u001b[32m━━━━━━━━━━━━━━━━━━━━\u001b[0m\u001b[37m\u001b[0m \u001b[1m1s\u001b[0m 34ms/step - loss: 0.0025 - val_loss: 0.0054\n",
      "Epoch 3/200\n",
      "\u001b[1m20/20\u001b[0m \u001b[32m━━━━━━━━━━━━━━━━━━━━\u001b[0m\u001b[37m\u001b[0m \u001b[1m1s\u001b[0m 30ms/step - loss: 0.0039 - val_loss: 0.0053\n",
      "Epoch 4/200\n",
      "\u001b[1m20/20\u001b[0m \u001b[32m━━━━━━━━━━━━━━━━━━━━\u001b[0m\u001b[37m\u001b[0m \u001b[1m1s\u001b[0m 32ms/step - loss: 0.0043 - val_loss: 0.0055\n",
      "Epoch 5/200\n",
      "\u001b[1m20/20\u001b[0m \u001b[32m━━━━━━━━━━━━━━━━━━━━\u001b[0m\u001b[37m\u001b[0m \u001b[1m1s\u001b[0m 33ms/step - loss: 0.0030 - val_loss: 0.0053\n",
      "Epoch 6/200\n",
      "\u001b[1m20/20\u001b[0m \u001b[32m━━━━━━━━━━━━━━━━━━━━\u001b[0m\u001b[37m\u001b[0m \u001b[1m1s\u001b[0m 31ms/step - loss: 0.0049 - val_loss: 0.0054\n",
      "Epoch 7/200\n",
      "\u001b[1m20/20\u001b[0m \u001b[32m━━━━━━━━━━━━━━━━━━━━\u001b[0m\u001b[37m\u001b[0m \u001b[1m1s\u001b[0m 35ms/step - loss: 0.0042 - val_loss: 0.0053\n",
      "Epoch 8/200\n",
      "\u001b[1m20/20\u001b[0m \u001b[32m━━━━━━━━━━━━━━━━━━━━\u001b[0m\u001b[37m\u001b[0m \u001b[1m1s\u001b[0m 34ms/step - loss: 0.0034 - val_loss: 0.0053\n",
      "Epoch 9/200\n",
      "\u001b[1m20/20\u001b[0m \u001b[32m━━━━━━━━━━━━━━━━━━━━\u001b[0m\u001b[37m\u001b[0m \u001b[1m1s\u001b[0m 34ms/step - loss: 0.0036 - val_loss: 0.0054\n",
      "Epoch 10/200\n",
      "\u001b[1m20/20\u001b[0m \u001b[32m━━━━━━━━━━━━━━━━━━━━\u001b[0m\u001b[37m\u001b[0m \u001b[1m1s\u001b[0m 33ms/step - loss: 0.0069 - val_loss: 0.0053\n",
      "Epoch 11/200\n",
      "\u001b[1m20/20\u001b[0m \u001b[32m━━━━━━━━━━━━━━━━━━━━\u001b[0m\u001b[37m\u001b[0m \u001b[1m1s\u001b[0m 32ms/step - loss: 0.0041 - val_loss: 0.0055\n",
      "Epoch 12/200\n",
      "\u001b[1m20/20\u001b[0m \u001b[32m━━━━━━━━━━━━━━━━━━━━\u001b[0m\u001b[37m\u001b[0m \u001b[1m1s\u001b[0m 31ms/step - loss: 0.0036 - val_loss: 0.0055\n",
      "Epoch 13/200\n",
      "\u001b[1m20/20\u001b[0m \u001b[32m━━━━━━━━━━━━━━━━━━━━\u001b[0m\u001b[37m\u001b[0m \u001b[1m1s\u001b[0m 31ms/step - loss: 0.0051 - val_loss: 0.0053\n",
      "Epoch 14/200\n",
      "\u001b[1m20/20\u001b[0m \u001b[32m━━━━━━━━━━━━━━━━━━━━\u001b[0m\u001b[37m\u001b[0m \u001b[1m1s\u001b[0m 37ms/step - loss: 0.0033 - val_loss: 0.0053\n",
      "Epoch 15/200\n",
      "\u001b[1m20/20\u001b[0m \u001b[32m━━━━━━━━━━━━━━━━━━━━\u001b[0m\u001b[37m\u001b[0m \u001b[1m1s\u001b[0m 33ms/step - loss: 0.0030 - val_loss: 0.0053\n",
      "Epoch 16/200\n",
      "\u001b[1m20/20\u001b[0m \u001b[32m━━━━━━━━━━━━━━━━━━━━\u001b[0m\u001b[37m\u001b[0m \u001b[1m1s\u001b[0m 34ms/step - loss: 0.0032 - val_loss: 0.0053\n",
      "Epoch 17/200\n",
      "\u001b[1m20/20\u001b[0m \u001b[32m━━━━━━━━━━━━━━━━━━━━\u001b[0m\u001b[37m\u001b[0m \u001b[1m1s\u001b[0m 34ms/step - loss: 0.0039 - val_loss: 0.0053\n",
      "Epoch 18/200\n",
      "\u001b[1m20/20\u001b[0m \u001b[32m━━━━━━━━━━━━━━━━━━━━\u001b[0m\u001b[37m\u001b[0m \u001b[1m1s\u001b[0m 32ms/step - loss: 0.0044 - val_loss: 0.0053\n",
      "Epoch 19/200\n",
      "\u001b[1m20/20\u001b[0m \u001b[32m━━━━━━━━━━━━━━━━━━━━\u001b[0m\u001b[37m\u001b[0m \u001b[1m1s\u001b[0m 32ms/step - loss: 0.0043 - val_loss: 0.0053\n",
      "Epoch 20/200\n",
      "\u001b[1m20/20\u001b[0m \u001b[32m━━━━━━━━━━━━━━━━━━━━\u001b[0m\u001b[37m\u001b[0m \u001b[1m1s\u001b[0m 33ms/step - loss: 0.0035 - val_loss: 0.0054\n"
     ]
    },
    {
     "data": {
      "text/plain": [
       "<keras.src.callbacks.history.History at 0x12eccff9350>"
      ]
     },
     "execution_count": 32,
     "metadata": {},
     "output_type": "execute_result"
    }
   ],
   "source": [
    "model_tech.fit(X_tech, y_tech, epochs=200, validation_split=0.2, callbacks=[early_stopping])"
   ]
  },
  {
   "cell_type": "code",
   "execution_count": 33,
   "id": "1197096c-0e3f-4b0c-82a8-3b3e63d66636",
   "metadata": {},
   "outputs": [
    {
     "name": "stdout",
     "output_type": "stream",
     "text": [
      "\u001b[1m25/25\u001b[0m \u001b[32m━━━━━━━━━━━━━━━━━━━━\u001b[0m\u001b[37m\u001b[0m \u001b[1m0s\u001b[0m 14ms/step\n"
     ]
    }
   ],
   "source": [
    "y_pred_tech = model_tech.predict(X_tech)"
   ]
  },
  {
   "cell_type": "code",
   "execution_count": 34,
   "id": "e1c93911-02ee-4e5a-96eb-990fd781761a",
   "metadata": {},
   "outputs": [],
   "source": [
    "df_furniture = df_furniture.iloc[seq_length:]\n",
    "df_office = df_office.iloc[seq_length:]\n",
    "df_tech = df_tech.iloc[seq_length:]"
   ]
  },
  {
   "cell_type": "code",
   "execution_count": 37,
   "id": "ded04f4b-16a6-4e32-8ed4-8514c0331032",
   "metadata": {},
   "outputs": [
    {
     "data": {
      "text/plain": [
       "((856, 1), (856, 14, 12))"
      ]
     },
     "execution_count": 37,
     "metadata": {},
     "output_type": "execute_result"
    }
   ],
   "source": [
    "y_pred_furniture.shape, X_furniture.shape"
   ]
  },
  {
   "cell_type": "code",
   "execution_count": 38,
   "id": "34fab568-d16a-4393-b856-352900ca1935",
   "metadata": {},
   "outputs": [],
   "source": [
    "y_pred_furniture = scaler_furniture.inverse_transform(np.hstack((y_pred_furniture, np.zeros((y_pred_furniture.shape[0], X_furniture.shape[2]-1)))))[:, 0]\n",
    "y_pred_office = scaler_office.inverse_transform(np.hstack((y_pred_office, np.zeros((y_pred_office.shape[0], X_office.shape[2]-1)))))[:, 0]\n",
    "y_pred_tech = scaler_tech.inverse_transform(np.hstack((y_pred_tech, np.zeros((y_pred_tech.shape[0], X_tech.shape[2]-1)))))[:, 0]"
   ]
  },
  {
   "cell_type": "code",
   "execution_count": 40,
   "id": "a0317225-bd8c-461c-a790-61a4349cf69b",
   "metadata": {},
   "outputs": [
    {
     "name": "stderr",
     "output_type": "stream",
     "text": [
      "C:\\Users\\adity\\AppData\\Local\\Temp\\ipykernel_6052\\2053453025.py:1: SettingWithCopyWarning: \n",
      "A value is trying to be set on a copy of a slice from a DataFrame.\n",
      "Try using .loc[row_indexer,col_indexer] = value instead\n",
      "\n",
      "See the caveats in the documentation: https://pandas.pydata.org/pandas-docs/stable/user_guide/indexing.html#returning-a-view-versus-a-copy\n",
      "  df_furniture['Pred Sales'] = y_pred_furniture\n",
      "C:\\Users\\adity\\AppData\\Local\\Temp\\ipykernel_6052\\2053453025.py:2: SettingWithCopyWarning: \n",
      "A value is trying to be set on a copy of a slice from a DataFrame.\n",
      "Try using .loc[row_indexer,col_indexer] = value instead\n",
      "\n",
      "See the caveats in the documentation: https://pandas.pydata.org/pandas-docs/stable/user_guide/indexing.html#returning-a-view-versus-a-copy\n",
      "  df_office['Pred Sales'] = y_pred_office\n",
      "C:\\Users\\adity\\AppData\\Local\\Temp\\ipykernel_6052\\2053453025.py:3: SettingWithCopyWarning: \n",
      "A value is trying to be set on a copy of a slice from a DataFrame.\n",
      "Try using .loc[row_indexer,col_indexer] = value instead\n",
      "\n",
      "See the caveats in the documentation: https://pandas.pydata.org/pandas-docs/stable/user_guide/indexing.html#returning-a-view-versus-a-copy\n",
      "  df_tech['Pred Sales'] = y_pred_tech\n"
     ]
    }
   ],
   "source": [
    "df_furniture['Pred Sales'] = y_pred_furniture\n",
    "df_office['Pred Sales'] = y_pred_office\n",
    "df_tech['Pred Sales'] = y_pred_tech"
   ]
  }
 ],
 "metadata": {
  "kernelspec": {
   "display_name": "Python 3 (ipykernel)",
   "language": "python",
   "name": "python3"
  },
  "language_info": {
   "codemirror_mode": {
    "name": "ipython",
    "version": 3
   },
   "file_extension": ".py",
   "mimetype": "text/x-python",
   "name": "python",
   "nbconvert_exporter": "python",
   "pygments_lexer": "ipython3",
   "version": "3.11.7"
  }
 },
 "nbformat": 4,
 "nbformat_minor": 5
}
